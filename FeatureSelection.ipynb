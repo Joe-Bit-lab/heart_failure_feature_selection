{
 "cells": [
  {
   "cell_type": "code",
   "execution_count": 19,
   "metadata": {},
   "outputs": [],
   "source": [
    "import pandas as pd\n",
    "import numpy as np\n",
    "import matplotlib.pyplot as plt\n",
    "import seaborn as sns\n",
    "%matplotlib inline\n",
    "from sklearn.feature_selection import SelectKBest, f_classif, chi2\n",
    "from sklearn.preprocessing import StandardScaler \n",
    "from sklearn.tree import DecisionTreeClassifier\n",
    "from sklearn.ensemble import RandomForestClassifier, ExtraTreesClassifier\n",
    "from sklearn.svm import LinearSVC\n",
    "from sklearn.compose import ColumnTransformer\n",
    "from sklearn.pipeline import make_pipeline\n",
    "from sklearn.model_selection import train_test_split"
   ]
  },
  {
   "cell_type": "code",
   "execution_count": 36,
   "metadata": {},
   "outputs": [],
   "source": [
    "data = pd.read_csv('../../CBlog2/predicting_heart_failure/heart_failure_clinical_records_dataset.csv')\n",
    "\n",
    "X = data.iloc[:,:-1]\n",
    "y = data.iloc[:,-1]\n",
    "\n",
    "categoricals_columns = []\n",
    "numericals_columns = []\n",
    "for i in list(X.columns):\n",
    "    if data[i].nunique() > 2:\n",
    "        numericals_columns.append(i)\n",
    "    else:\n",
    "        categoricals_columns.append(i)\n",
    "categoricals = X[categoricals_columns]\n",
    "numericals = X[numericals_columns]\n",
    "\n",
    "ss = StandardScaler()\n",
    "preprocessor = ColumnTransformer(\n",
    "    transformers=[\n",
    "        ('numericals',\n",
    "        ss,\n",
    "        numericals_columns\n",
    "        )\n",
    "    ]\n",
    ")\n",
    "numericals_scaled = pd.DataFrame(preprocessor.fit_transform(X), columns=numericals_columns)\n",
    "X_processed = pd.concat([numericals_scaled,categoricals], axis=1)\n",
    "\n",
    "X_train, X_test, y_train, y_test = train_test_split(X_processed, y, test_size=0.2, stratify=y)"
   ]
  },
  {
   "cell_type": "code",
   "execution_count": 49,
   "metadata": {},
   "outputs": [
    {
     "data": {
      "text/plain": [
       "SelectKBest(k=4, score_func=<function f_classif at 0x1a1d4d5b00>)"
      ]
     },
     "execution_count": 49,
     "metadata": {},
     "output_type": "execute_result"
    }
   ],
   "source": [
    "selector = SelectKBest(f_classif, k=4)\n",
    "selector.fit(X_train,y_train)"
   ]
  },
  {
   "cell_type": "code",
   "execution_count": 52,
   "metadata": {},
   "outputs": [
    {
     "data": {
      "text/plain": [
       "array([5.20282357e-05, 5.57031722e-01, 1.16394213e-05, 3.56039158e-01,\n",
       "       2.51966866e-05, 1.49607665e-03, 1.31109764e-16, 3.65385023e-02,\n",
       "       6.94992247e-01, 1.26354500e-01, 8.39234444e-01, 5.20771918e-01])"
      ]
     },
     "execution_count": 52,
     "metadata": {},
     "output_type": "execute_result"
    }
   ],
   "source": [
    "selector.pvalues_"
   ]
  },
  {
   "cell_type": "code",
   "execution_count": null,
   "metadata": {},
   "outputs": [],
   "source": []
  }
 ],
 "metadata": {
  "kernelspec": {
   "display_name": "Python 3",
   "language": "python",
   "name": "python3"
  },
  "language_info": {
   "codemirror_mode": {
    "name": "ipython",
    "version": 3
   },
   "file_extension": ".py",
   "mimetype": "text/x-python",
   "name": "python",
   "nbconvert_exporter": "python",
   "pygments_lexer": "ipython3",
   "version": "3.7.7"
  }
 },
 "nbformat": 4,
 "nbformat_minor": 4
}
